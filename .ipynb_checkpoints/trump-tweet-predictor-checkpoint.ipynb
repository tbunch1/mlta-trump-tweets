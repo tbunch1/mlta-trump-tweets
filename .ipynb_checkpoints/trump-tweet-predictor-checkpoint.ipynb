{
 "cells": [
  {
   "cell_type": "markdown",
   "id": "2db3b5c5-d9de-4e0f-a655-7087b81291d8",
   "metadata": {},
   "source": []
  },
  {
   "cell_type": "code",
   "execution_count": 2,
   "id": "5b27856f-2ca5-4b6a-b7d6-098402da82fd",
   "metadata": {},
   "outputs": [
    {
     "name": "stdout",
     "output_type": "stream",
     "text": [
      "(56571, 9)\n"
     ]
    },
    {
     "data": {
      "text/html": [
       "<div>\n",
       "<style scoped>\n",
       "    .dataframe tbody tr th:only-of-type {\n",
       "        vertical-align: middle;\n",
       "    }\n",
       "\n",
       "    .dataframe tbody tr th {\n",
       "        vertical-align: top;\n",
       "    }\n",
       "\n",
       "    .dataframe thead th {\n",
       "        text-align: right;\n",
       "    }\n",
       "</style>\n",
       "<table border=\"1\" class=\"dataframe\">\n",
       "  <thead>\n",
       "    <tr style=\"text-align: right;\">\n",
       "      <th></th>\n",
       "      <th>id</th>\n",
       "      <th>text</th>\n",
       "      <th>isRetweet</th>\n",
       "      <th>isDeleted</th>\n",
       "      <th>device</th>\n",
       "      <th>favorites</th>\n",
       "      <th>retweets</th>\n",
       "      <th>date</th>\n",
       "      <th>isFlagged</th>\n",
       "    </tr>\n",
       "  </thead>\n",
       "  <tbody>\n",
       "    <tr>\n",
       "      <th>0</th>\n",
       "      <td>98454970654916608</td>\n",
       "      <td>Republicans and Democrats have both created ou...</td>\n",
       "      <td>f</td>\n",
       "      <td>f</td>\n",
       "      <td>TweetDeck</td>\n",
       "      <td>49</td>\n",
       "      <td>255</td>\n",
       "      <td>2011-08-02 18:07:48</td>\n",
       "      <td>f</td>\n",
       "    </tr>\n",
       "    <tr>\n",
       "      <th>1</th>\n",
       "      <td>1234653427789070336</td>\n",
       "      <td>I was thrilled to be back in the Great city of...</td>\n",
       "      <td>f</td>\n",
       "      <td>f</td>\n",
       "      <td>Twitter for iPhone</td>\n",
       "      <td>73748</td>\n",
       "      <td>17404</td>\n",
       "      <td>2020-03-03 01:34:50</td>\n",
       "      <td>f</td>\n",
       "    </tr>\n",
       "    <tr>\n",
       "      <th>2</th>\n",
       "      <td>1218010753434820614</td>\n",
       "      <td>RT @CBS_Herridge: READ: Letter to surveillance...</td>\n",
       "      <td>t</td>\n",
       "      <td>f</td>\n",
       "      <td>Twitter for iPhone</td>\n",
       "      <td>0</td>\n",
       "      <td>7396</td>\n",
       "      <td>2020-01-17 03:22:47</td>\n",
       "      <td>f</td>\n",
       "    </tr>\n",
       "    <tr>\n",
       "      <th>3</th>\n",
       "      <td>1304875170860015617</td>\n",
       "      <td>The Unsolicited Mail In Ballot Scam is a major...</td>\n",
       "      <td>f</td>\n",
       "      <td>f</td>\n",
       "      <td>Twitter for iPhone</td>\n",
       "      <td>80527</td>\n",
       "      <td>23502</td>\n",
       "      <td>2020-09-12 20:10:58</td>\n",
       "      <td>f</td>\n",
       "    </tr>\n",
       "    <tr>\n",
       "      <th>4</th>\n",
       "      <td>1218159531554897920</td>\n",
       "      <td>RT @MZHemingway: Very friendly telling of even...</td>\n",
       "      <td>t</td>\n",
       "      <td>f</td>\n",
       "      <td>Twitter for iPhone</td>\n",
       "      <td>0</td>\n",
       "      <td>9081</td>\n",
       "      <td>2020-01-17 13:13:59</td>\n",
       "      <td>f</td>\n",
       "    </tr>\n",
       "  </tbody>\n",
       "</table>\n",
       "</div>"
      ],
      "text/plain": [
       "                    id                                               text  \\\n",
       "0    98454970654916608  Republicans and Democrats have both created ou...   \n",
       "1  1234653427789070336  I was thrilled to be back in the Great city of...   \n",
       "2  1218010753434820614  RT @CBS_Herridge: READ: Letter to surveillance...   \n",
       "3  1304875170860015617  The Unsolicited Mail In Ballot Scam is a major...   \n",
       "4  1218159531554897920  RT @MZHemingway: Very friendly telling of even...   \n",
       "\n",
       "  isRetweet isDeleted              device  favorites  retweets  \\\n",
       "0         f         f           TweetDeck         49       255   \n",
       "1         f         f  Twitter for iPhone      73748     17404   \n",
       "2         t         f  Twitter for iPhone          0      7396   \n",
       "3         f         f  Twitter for iPhone      80527     23502   \n",
       "4         t         f  Twitter for iPhone          0      9081   \n",
       "\n",
       "                  date isFlagged  \n",
       "0  2011-08-02 18:07:48         f  \n",
       "1  2020-03-03 01:34:50         f  \n",
       "2  2020-01-17 03:22:47         f  \n",
       "3  2020-09-12 20:10:58         f  \n",
       "4  2020-01-17 13:13:59         f  "
      ]
     },
     "execution_count": 2,
     "metadata": {},
     "output_type": "execute_result"
    },
    {
     "data": {
      "image/png": "[encoded data removed]",
      "text/plain": [
       "<Figure size 640x480 with 1 Axes>"
      ]
     },
     "metadata": {},
     "output_type": "display_data"
    }
   ],
   "source": [
    "import pandas\n",
    "import numpy as np\n",
    "raw_tweets = pandas.read_csv(\"trump-tweets.csv\")\n",
    "dates  = pandas.to_datetime(raw_tweets[\"date\"])\n",
    "years = dates.apply(lambda x: x.year)\n",
    "years.value_counts().plot(kind='bar', title=\"All Tweets/RTs\")\n",
    "print(raw_tweets.shape)\n",
    "raw_tweets.head()"
   ]
  },
  {
   "cell_type": "markdown",
   "id": "7ff43fe8-5a11-4c81-b37e-4bcb988dc607",
   "metadata": {},
   "source": [
    "Now to clean up the data and drop unwanted features/entries, such as number of retweets, or tweets that are just media."
   ]
  },
  {
   "cell_type": "code",
   "execution_count": 94,
   "id": "462e5b15-2440-4c6f-85fa-1174b1070dcb",
   "metadata": {},
   "outputs": [
    {
     "name": "stdout",
     "output_type": "stream",
     "text": [
      "(46869, 9)\n"
     ]
    },
    {
     "data": {
      "text/html": [
       "<div>\n",
       "<style scoped>\n",
       "    .dataframe tbody tr th:only-of-type {\n",
       "        vertical-align: middle;\n",
       "    }\n",
       "\n",
       "    .dataframe tbody tr th {\n",
       "        vertical-align: top;\n",
       "    }\n",
       "\n",
       "    .dataframe thead th {\n",
       "        text-align: right;\n",
       "    }\n",
       "</style>\n",
       "<table border=\"1\" class=\"dataframe\">\n",
       "  <thead>\n",
       "    <tr style=\"text-align: right;\">\n",
       "      <th></th>\n",
       "      <th>text</th>\n",
       "      <th>year</th>\n",
       "    </tr>\n",
       "  </thead>\n",
       "  <tbody>\n",
       "    <tr>\n",
       "      <th>0</th>\n",
       "      <td>Republicans and Democrats have both created ou...</td>\n",
       "      <td>2011</td>\n",
       "    </tr>\n",
       "    <tr>\n",
       "      <th>3</th>\n",
       "      <td>The Unsolicited Mail In Ballot Scam is a major...</td>\n",
       "      <td>2020</td>\n",
       "    </tr>\n",
       "    <tr>\n",
       "      <th>19</th>\n",
       "      <td>The threshold identification of Ballots is tur...</td>\n",
       "      <td>2020</td>\n",
       "    </tr>\n",
       "    <tr>\n",
       "      <th>20</th>\n",
       "      <td>“I’m running as a proud Democrat, for the Sena...</td>\n",
       "      <td>2020</td>\n",
       "    </tr>\n",
       "    <tr>\n",
       "      <th>26</th>\n",
       "      <td>Nevada is turning out to be a cesspool of Fake...</td>\n",
       "      <td>2020</td>\n",
       "    </tr>\n",
       "  </tbody>\n",
       "</table>\n",
       "</div>"
      ],
      "text/plain": [
       "                                                 text  year\n",
       "0   Republicans and Democrats have both created ou...  2011\n",
       "3   The Unsolicited Mail In Ballot Scam is a major...  2020\n",
       "19  The threshold identification of Ballots is tur...  2020\n",
       "20  “I’m running as a proud Democrat, for the Sena...  2020\n",
       "26  Nevada is turning out to be a cesspool of Fake...  2020"
      ]
     },
     "execution_count": 94,
     "metadata": {},
     "output_type": "execute_result"
    },
    {
     "data": {
      "image/png": "[encoded data removed]",
      "text/plain": [
       "<Figure size 640x480 with 1 Axes>"
      ]
     },
     "metadata": {},
     "output_type": "display_data"
    }
   ],
   "source": [
    "#converts a date to the day of the year it occurred on (0-365)\n",
    "def date_to_doy(date):\n",
    "    date_str = \"01/01/\" + str(date.year)\n",
    "    yr_begin = pandas.to_datetime(date_str)\n",
    "    return (date - yr_begin).days\n",
    "\n",
    "#remove retweets\n",
    "tweets = raw_tweets.drop(raw_tweets[raw_tweets[\"text\"].str.find(\"RT\") == 0].index)\n",
    "print(tweets.shape)\n",
    "tweets = tweets.drop([\"id\", \"favorites\", \"retweets\", \"isFlagged\", \"isDeleted\", \"isRetweet\", \"device\"], axis=1)\n",
    "tweets[\"date\"]  = pandas.to_datetime(tweets[\"date\"])\n",
    "\n",
    "tweets[\"year\"] = tweets[\"date\"].apply(lambda x: x.year)\n",
    "\n",
    "tweets[\"year\"].value_counts().plot(kind='bar', title=\"Tweets, no RTs\")\n",
    "# # remove entries that contain media, as these are often short, or don't convey the whole meaning of the tweet via text\n",
    "tweets = tweets.drop(tweets[tweets[\"text\"].str.find(\"https://t.co/\") >= 0].index)\n",
    "tweets[\"day\"] = tweets[\"date\"].apply(lambda x: date_to_doy(x))\n",
    "# times are pretty randomly distributed, so we can ignore them\n",
    "tweets = tweets.drop([\"date\"], axis=1)\n",
    "tweets = tweets.drop([\"day\"], axis=1)\n",
    "tweets.head()\n"
   ]
  },
  {
   "cell_type": "code",
   "execution_count": 5,
   "id": "d7a10a20-2b44-4a3a-9343-ec328a1dd695",
   "metadata": {},
   "outputs": [
    {
     "data": {
      "text/plain": [
       "<Axes: title={'center': 'Tweets, no media'}, xlabel='year'>"
      ]
     },
     "execution_count": 5,
     "metadata": {},
     "output_type": "execute_result"
    },
    {
     "data": {
      "image/png": "[encoded data removed]",
      "text/plain": [
       "<Figure size 640x480 with 1 Axes>"
      ]
     },
     "metadata": {},
     "output_type": "display_data"
    }
   ],
   "source": [
    "tweets[\"year\"].value_counts().plot(kind='bar', title=\"Tweets, no media\")"
   ]
  },
  {
   "cell_type": "markdown",
   "id": "59dc76fb-416a-45cb-965e-f982a90c35b7",
   "metadata": {},
   "source": [
    "The first few years of tweeting were very sparse - Trump's account was barely used from 2009-2011, and Trump's account was suspended in January of 2021, so there isn't enough data to really predict those years. As a result, they are dropped. After this, we can separate the tweet features from the years to begin modeling."
   ]
  },
  {
   "cell_type": "code",
   "execution_count": 9,
   "id": "bb33f54c-4934-4a39-a01a-318ad45d85f4",
   "metadata": {},
   "outputs": [
    {
     "name": "stdout",
     "output_type": "stream",
     "text": [
      "(37144, 3)\n"
     ]
    },
    {
     "data": {
      "text/plain": [
       "<Axes: title={'center': 'Final Tweets'}, xlabel='year'>"
      ]
     },
     "execution_count": 9,
     "metadata": {},
     "output_type": "execute_result"
    },
    {
     "data": {
      "image/png": "[encoded data removed]",
      "text/plain": [
       "<Figure size 640x480 with 1 Axes>"
      ]
     },
     "metadata": {},
     "output_type": "display_data"
    }
   ],
   "source": [
    "all_yr_twts = tweets\n",
    "tweets = tweets[~tweets[\"year\"].isin((2009, 2010, 2011, 2021))]\n",
    "tweet_yrs = tweets[\"year\"]\n",
    "tweets = tweets.drop([\"year\"], axis=1)\n",
    "print(tweets.shape)\n",
    "tweet_yrs.value_counts().plot(kind='bar', title=\"Final Tweets\")\n",
    "\n"
   ]
  },
  {
   "cell_type": "code",
   "execution_count": 48,
   "id": "7c86292e-abf9-4978-8d1c-c3cfcdb2b7b3",
   "metadata": {},
   "outputs": [
    {
     "name": "stdout",
     "output_type": "stream",
     "text": [
      "year\n",
      "pre2017     26597\n",
      "post2017    10547\n",
      "Name: count, dtype: int64\n"
     ]
    }
   ],
   "source": [
    "tweets_text = tweets[\"text\"]\n",
    "# all_text = all_yr_twts[\"text\"]\n",
    "# all_yrs = all_yr_twts[\"year\"]\n",
    "\n",
    "year_divs = {}\n",
    "\n",
    "for yr in tweet_yrs.value_counts().index:\n",
    "    #no tweets before \n",
    "    if yr == 2012:\n",
    "        continue\n",
    "    this_yr_div = tweet_yrs.apply(lambda year: f\"pre{yr}\" if year < yr else f\"post{yr}\")\n",
    "    year_divs[yr] = this_yr_div\n",
    "    \n",
    "years_div17 = tweet_yrs.apply(lambda yr: \"pre2017\" if yr < 2017 else \"post2017\")\n",
    "print(years_div17.value_counts())"
   ]
  },
  {
   "cell_type": "markdown",
   "id": "31df8c67-9fe0-438c-8ab9-e0786dde3e82",
   "metadata": {},
   "source": [
    "Naive Bayes"
   ]
  },
  {
   "cell_type": "code",
   "execution_count": 12,
   "id": "9ea87758-820f-4a47-88cc-9cf71de5c829",
   "metadata": {},
   "outputs": [],
   "source": [
    "from sklearn.pipeline import Pipeline\n",
    "from sklearn.feature_extraction.text import CountVectorizer\n",
    "from sklearn.naive_bayes import MultinomialNB, GaussianNB\n",
    "from sklearn.model_selection import cross_val_predict\n",
    "from sklearn.metrics import classification_report, accuracy_score\n",
    "import numpy as np\n",
    "from sklearn.model_selection import GridSearchCV, train_test_split\n",
    "from sklearn.ensemble import RandomForestClassifier as RandFor\n",
    "from nltk.tokenize import TweetTokenizer\n",
    "from collections import namedtuple\n",
    "from sklearn.neural_network import MLPClassifier\n"
   ]
  },
  {
   "cell_type": "code",
   "execution_count": 51,
   "id": "28228fa9-636c-4b8b-bb2a-e6b1fc68e342",
   "metadata": {},
   "outputs": [
    {
     "name": "stdout",
     "output_type": "stream",
     "text": [
      "              precision    recall  f1-score   support\n",
      "\n",
      "        2012       0.66      0.36      0.47      3522\n",
      "        2013       0.50      0.58      0.54      8114\n",
      "        2014       0.43      0.35      0.39      5769\n",
      "        2015       0.45      0.48      0.46      6810\n",
      "        2016       0.54      0.16      0.25      2382\n",
      "        2017       0.57      0.02      0.04      1585\n",
      "        2018       0.35      0.30      0.32      2375\n",
      "        2019       0.33      0.73      0.46      3557\n",
      "        2020       0.53      0.56      0.54      3030\n",
      "\n",
      "    accuracy                           0.45     37144\n",
      "   macro avg       0.48      0.39      0.39     37144\n",
      "weighted avg       0.48      0.45      0.43     37144\n",
      "\n",
      "              precision    recall  f1-score   support\n",
      "\n",
      "    post2017       0.72      0.91      0.81     10547\n",
      "     pre2017       0.96      0.86      0.91     26597\n",
      "\n",
      "    accuracy                           0.88     37144\n",
      "   macro avg       0.84      0.89      0.86     37144\n",
      "weighted avg       0.89      0.88      0.88     37144\n",
      "\n",
      "2013: 0.9102143010984277\n",
      "2014: 0.7314774930002154\n",
      "2015: 0.753661425802283\n",
      "2016: 0.860354296790868\n",
      "2017: 0.8753499892311006\n",
      "2018: 0.856558259745854\n",
      "2019: 0.8305244454016799\n",
      "2020: 0.8776114581089812\n"
     ]
    }
   ],
   "source": [
    "# use a pipeline to do vectorizing for us, keep testing/training separate\n",
    "mult_nb = MultinomialNB()\n",
    "pipeline = Pipeline(steps=[('vectorizer', CountVectorizer()), ('nb', mult_nb)])\n",
    "NBpredictions = cross_val_predict(pipeline, tweets_text, tweet_yrs)\n",
    "\n",
    "NBpredictions_div17 = cross_val_predict(pipeline, tweets_text, years_div17)\n",
    "\n",
    "print(classification_report(tweet_yrs, NBpredictions))\n",
    "print(classification_report(years_div17, NBpredictions_div17))\n",
    "\n",
    "for yr in sorted(list(year_divs.keys())):\n",
    "    div_yr = year_divs[yr]\n",
    "    NBpredictions_by_yr = cross_val_predict(pipeline, tweets_text, div_yr)\n",
    "    print(f\"{yr}: {accuracy_score(div_yr, NBpredictions_by_yr)}\")\n"
   ]
  },
  {
   "cell_type": "markdown",
   "id": "5e634ce0-c9a6-42da-9041-177e986bb628",
   "metadata": {},
   "source": [
    "2017's score was very low, so I tried doing some analysis on the word counts to see what trends I could find, but they weren't super informative. My guess is that Trump's first year didn't have many issues that were distinct from those that became relevant later on in his presidency. The main issues that were in correctly identified tweets were attempts to repeal the Affordable Care Act and the 2017 Tax Bill. Also present is Trump's support for Luther Strange, a primary candidate for Alabama's special Senate election that year."
   ]
  },
  {
   "cell_type": "code",
   "execution_count": 22,
   "id": "c057e8b5-bd66-4988-ae03-fcf617f0aec4",
   "metadata": {},
   "outputs": [
    {
     "name": "stdout",
     "output_type": "stream",
     "text": [
      "true  pred\n",
      "2017  2019    782\n",
      "      2018    316\n",
      "      2020    238\n",
      "      2015     96\n",
      "      2013     71\n",
      "      2017     37\n",
      "      2016     26\n",
      "      2014     17\n",
      "      2012      2\n",
      "Name: count, dtype: int64\n"
     ]
    },
    {
     "data": {
      "text/html": [
       "<div>\n",
       "<style scoped>\n",
       "    .dataframe tbody tr th:only-of-type {\n",
       "        vertical-align: middle;\n",
       "    }\n",
       "\n",
       "    .dataframe tbody tr th {\n",
       "        vertical-align: top;\n",
       "    }\n",
       "\n",
       "    .dataframe thead th {\n",
       "        text-align: right;\n",
       "    }\n",
       "</style>\n",
       "<table border=\"1\" class=\"dataframe\">\n",
       "  <thead>\n",
       "    <tr style=\"text-align: right;\">\n",
       "      <th></th>\n",
       "      <th>word</th>\n",
       "      <th>count</th>\n",
       "    </tr>\n",
       "  </thead>\n",
       "  <tbody>\n",
       "    <tr>\n",
       "      <th>117</th>\n",
       "      <td>great</td>\n",
       "      <td>14</td>\n",
       "    </tr>\n",
       "    <tr>\n",
       "      <th>202</th>\n",
       "      <td>obamacare</td>\n",
       "      <td>12</td>\n",
       "    </tr>\n",
       "    <tr>\n",
       "      <th>168</th>\n",
       "      <td>luther</td>\n",
       "      <td>12</td>\n",
       "    </tr>\n",
       "    <tr>\n",
       "      <th>14</th>\n",
       "      <td>amp</td>\n",
       "      <td>12</td>\n",
       "    </tr>\n",
       "    <tr>\n",
       "      <th>329</th>\n",
       "      <td>with</td>\n",
       "      <td>11</td>\n",
       "    </tr>\n",
       "    <tr>\n",
       "      <th>325</th>\n",
       "      <td>will</td>\n",
       "      <td>11</td>\n",
       "    </tr>\n",
       "    <tr>\n",
       "      <th>129</th>\n",
       "      <td>healthcare</td>\n",
       "      <td>11</td>\n",
       "    </tr>\n",
       "    <tr>\n",
       "      <th>203</th>\n",
       "      <td>of</td>\n",
       "      <td>11</td>\n",
       "    </tr>\n",
       "    <tr>\n",
       "      <th>295</th>\n",
       "      <td>tax</td>\n",
       "      <td>11</td>\n",
       "    </tr>\n",
       "    <tr>\n",
       "      <th>148</th>\n",
       "      <td>is</td>\n",
       "      <td>9</td>\n",
       "    </tr>\n",
       "  </tbody>\n",
       "</table>\n",
       "</div>"
      ],
      "text/plain": [
       "           word  count\n",
       "117       great     14\n",
       "202   obamacare     12\n",
       "168      luther     12\n",
       "14          amp     12\n",
       "329        with     11\n",
       "325        will     11\n",
       "129  healthcare     11\n",
       "203          of     11\n",
       "295         tax     11\n",
       "148          is      9"
      ]
     },
     "execution_count": 22,
     "metadata": {},
     "output_type": "execute_result"
    }
   ],
   "source": [
    "vectorizer = CountVectorizer()\n",
    "true_predictions = pandas.DataFrame(data={\"true\": tweet_yrs, \"pred\": NBpredictions})\n",
    "true_predictions.head()\n",
    "tp_2017 = true_predictions[true_predictions['true'] == 2017]\n",
    "print(tp_2017.value_counts())\n",
    "\n",
    "\n",
    "tweets_17corr = tweets[\"text\"].loc[tp_2017[tp_2017[\"pred\"] == 2017].index]\n",
    "vect_17corr = vectorizer.fit_transform(tweets_17corr)\n",
    "word_counts = vect_17corr.sum(axis=0)\n",
    "vocab = vectorizer.get_feature_names_out()\n",
    "word_freq = pandas.DataFrame({\n",
    "    'word': vocab,\n",
    "    'count': word_counts.A1  \n",
    "})\n",
    "# Sort by count in descending order\n",
    "word_freq = word_freq.sort_values(by='count', ascending=False)\n",
    "# ignore the basic common words at the top (e.g. the, and, etc)\n",
    "word_freq[5:15]"
   ]
  },
  {
   "cell_type": "markdown",
   "id": "fff0f0de-7658-455e-9d88-a653c97f15d7",
   "metadata": {},
   "source": [
    "Random Forest"
   ]
  },
  {
   "cell_type": "code",
   "execution_count": 25,
   "id": "cb5407bc-027f-43f1-a3ef-dc1fbc2b48de",
   "metadata": {},
   "outputs": [
    {
     "name": "stdout",
     "output_type": "stream",
     "text": [
      "              precision    recall  f1-score   support\n",
      "\n",
      "        2012       0.64      0.40      0.49      3522\n",
      "        2013       0.38      0.64      0.47      8114\n",
      "        2014       0.39      0.26      0.31      5769\n",
      "        2015       0.41      0.49      0.45      6810\n",
      "        2016       0.53      0.24      0.34      2382\n",
      "        2017       0.34      0.10      0.16      1585\n",
      "        2018       0.48      0.19      0.28      2375\n",
      "        2019       0.46      0.57      0.51      3557\n",
      "        2020       0.58      0.40      0.47      3030\n",
      "\n",
      "    accuracy                           0.43     37144\n",
      "   macro avg       0.47      0.37      0.39     37144\n",
      "weighted avg       0.45      0.43      0.41     37144\n",
      "\n",
      "              precision    recall  f1-score   support\n",
      "\n",
      "    post2017       0.92      0.68      0.78     10547\n",
      "     pre2017       0.88      0.98      0.93     26597\n",
      "\n",
      "    accuracy                           0.89     37144\n",
      "   macro avg       0.90      0.83      0.85     37144\n",
      "weighted avg       0.89      0.89      0.89     37144\n",
      "\n"
     ]
    }
   ],
   "source": [
    "rf = RandFor()\n",
    "pipeline = Pipeline(steps=[('vectorizer', CountVectorizer()), ('rf', rf)])\n",
    "RFpredictions = cross_val_predict(pipeline, tweets_text, tweet_yrs)\n",
    "print(classification_report(tweet_yrs, RFpredictions))\n",
    "RFpredictions_div17 = cross_val_predict(pipeline, tweets_text, years_div17)\n",
    "print(classification_report(years_div17, RFpredictions_div17))\n"
   ]
  },
  {
   "cell_type": "code",
   "execution_count": 26,
   "id": "4ac77b67-01b9-411e-b528-b14e91729fb9",
   "metadata": {},
   "outputs": [
    {
     "name": "stdout",
     "output_type": "stream",
     "text": [
      "true  pred\n",
      "2017  2013    644\n",
      "      2019    228\n",
      "      2017    162\n",
      "      2020    157\n",
      "      2015    155\n",
      "      2016     82\n",
      "      2018     80\n",
      "      2014     45\n",
      "      2012     32\n",
      "Name: count, dtype: int64\n"
     ]
    },
    {
     "data": {
      "text/html": [
       "<div>\n",
       "<style scoped>\n",
       "    .dataframe tbody tr th:only-of-type {\n",
       "        vertical-align: middle;\n",
       "    }\n",
       "\n",
       "    .dataframe tbody tr th {\n",
       "        vertical-align: top;\n",
       "    }\n",
       "\n",
       "    .dataframe thead th {\n",
       "        text-align: right;\n",
       "    }\n",
       "</style>\n",
       "<table border=\"1\" class=\"dataframe\">\n",
       "  <thead>\n",
       "    <tr style=\"text-align: right;\">\n",
       "      <th></th>\n",
       "      <th>word</th>\n",
       "      <th>count</th>\n",
       "    </tr>\n",
       "  </thead>\n",
       "  <tbody>\n",
       "    <tr>\n",
       "      <th>328</th>\n",
       "      <td>fake</td>\n",
       "      <td>58</td>\n",
       "    </tr>\n",
       "    <tr>\n",
       "      <th>647</th>\n",
       "      <td>news</td>\n",
       "      <td>54</td>\n",
       "    </tr>\n",
       "    <tr>\n",
       "      <th>477</th>\n",
       "      <td>is</td>\n",
       "      <td>53</td>\n",
       "    </tr>\n",
       "    <tr>\n",
       "      <th>351</th>\n",
       "      <td>for</td>\n",
       "      <td>52</td>\n",
       "    </tr>\n",
       "    <tr>\n",
       "      <th>928</th>\n",
       "      <td>tax</td>\n",
       "      <td>48</td>\n",
       "    </tr>\n",
       "    <tr>\n",
       "      <th>1045</th>\n",
       "      <td>will</td>\n",
       "      <td>39</td>\n",
       "    </tr>\n",
       "    <tr>\n",
       "      <th>1050</th>\n",
       "      <td>with</td>\n",
       "      <td>38</td>\n",
       "    </tr>\n",
       "    <tr>\n",
       "      <th>391</th>\n",
       "      <td>great</td>\n",
       "      <td>33</td>\n",
       "    </tr>\n",
       "    <tr>\n",
       "      <th>232</th>\n",
       "      <td>cuts</td>\n",
       "      <td>33</td>\n",
       "    </tr>\n",
       "    <tr>\n",
       "      <th>674</th>\n",
       "      <td>on</td>\n",
       "      <td>33</td>\n",
       "    </tr>\n",
       "  </tbody>\n",
       "</table>\n",
       "</div>"
      ],
      "text/plain": [
       "       word  count\n",
       "328    fake     58\n",
       "647    news     54\n",
       "477      is     53\n",
       "351     for     52\n",
       "928     tax     48\n",
       "1045   will     39\n",
       "1050   with     38\n",
       "391   great     33\n",
       "232    cuts     33\n",
       "674      on     33"
      ]
     },
     "execution_count": 26,
     "metadata": {},
     "output_type": "execute_result"
    }
   ],
   "source": [
    "RFtrue_predictions = pandas.DataFrame(data={\"true\": tweet_yrs, \"pred\": RFpredictions})\n",
    "RFtrue_predictions.head()\n",
    "RFtp_2017 = RFtrue_predictions[RFtrue_predictions['true'] == 2017]\n",
    "print(RFtp_2017.value_counts())\n",
    "\n",
    "\n",
    "RFtweets_17corr = tweets[\"text\"].loc[RFtp_2017[RFtp_2017[\"pred\"] == 2017].index]\n",
    "\n",
    "RFvect_17corr = vectorizer.fit_transform(RFtweets_17corr)\n",
    "RFword_counts = RFvect_17corr.sum(axis=0)\n",
    "RFvocab = vectorizer.get_feature_names_out()\n",
    "RFword_freq = pandas.DataFrame({\n",
    "    'word': RFvocab,\n",
    "    'count': RFword_counts.A1  \n",
    "})\n",
    "# Sort by count in descending order\n",
    "RFword_freq = RFword_freq.sort_values(by='count', ascending=False)\n",
    "# ignore the basic common words at the top (e.g. the, and, etc)\n",
    "RFword_freq[5:15]"
   ]
  },
  {
   "cell_type": "markdown",
   "id": "7e2b82ea-93ec-4452-b4ec-d2643b0949bc",
   "metadata": {},
   "source": [
    "Neural Network"
   ]
  },
  {
   "cell_type": "code",
   "execution_count": 28,
   "id": "c86f63fb-4489-493a-83a5-c87edf3f8218",
   "metadata": {},
   "outputs": [
    {
     "name": "stdout",
     "output_type": "stream",
     "text": [
      "              precision    recall  f1-score   support\n",
      "\n",
      "        2012       0.61      0.59      0.60       841\n",
      "        2013       0.60      0.59      0.60      2023\n",
      "        2014       0.51      0.52      0.51      1428\n",
      "        2015       0.61      0.61      0.61      1673\n",
      "        2016       0.53      0.50      0.51       633\n",
      "        2017       0.37      0.36      0.37       419\n",
      "        2018       0.47      0.47      0.47       607\n",
      "        2019       0.53      0.58      0.55       888\n",
      "        2020       0.60      0.60      0.60       774\n",
      "\n",
      "    accuracy                           0.56      9286\n",
      "   macro avg       0.54      0.54      0.54      9286\n",
      "weighted avg       0.56      0.56      0.56      9286\n",
      "\n"
     ]
    }
   ],
   "source": [
    "# in order to shorten running time, a regular test/train split is used rather than cross validation. \n",
    "text_train, text_test, yr_train, yr_test = train_test_split(tweets_text, tweet_yrs, random_state=2)\n",
    "mlp = MLPClassifier()\n",
    "pipeline = Pipeline(steps=[('vectorizer', CountVectorizer()), ('mlp', mlp)])\n",
    "pipeline.fit(text_train, yr_train)\n",
    "MLPpredictions = pipeline.predict(text_test)\n",
    "print(classification_report(yr_test, MLPpredictions))\n"
   ]
  },
  {
   "cell_type": "code",
   "execution_count": 38,
   "id": "8a8f6339-538e-4612-88e8-f7d6607a71b3",
   "metadata": {},
   "outputs": [
    {
     "name": "stdout",
     "output_type": "stream",
     "text": [
      "              precision    recall  f1-score   support\n",
      "\n",
      "    post2017       0.84      0.89      0.86      2688\n",
      "     pre2017       0.95      0.93      0.94      6598\n",
      "\n",
      "    accuracy                           0.92      9286\n",
      "   macro avg       0.90      0.91      0.90      9286\n",
      "weighted avg       0.92      0.92      0.92      9286\n",
      "\n"
     ]
    }
   ],
   "source": [
    "text_train17, text_test17, yr_train17, yr_test17 = train_test_split(tweets_text, years_div17, random_state=2)\n",
    "pipeline = Pipeline(steps=[('vectorizer', CountVectorizer()), ('mlp', mlp)])\n",
    "pipeline.fit(text_train17, yr_train17)\n",
    "MLPpredictions17 = pipeline.predict(text_test17)\n",
    "print(classification_report(yr_test17, MLPpredictions17))"
   ]
  },
  {
   "cell_type": "code",
   "execution_count": 36,
   "id": "f94c72da-da50-4e8a-b234-8c7ea44357a9",
   "metadata": {},
   "outputs": [
    {
     "name": "stdout",
     "output_type": "stream",
     "text": [
      "true  pred\n",
      "2017  2017    152\n",
      "      2018     68\n",
      "      2019     59\n",
      "      2020     46\n",
      "      2016     30\n",
      "      2013     27\n",
      "      2015     18\n",
      "      2014     12\n",
      "      2012      7\n",
      "Name: count, dtype: int64\n"
     ]
    },
    {
     "data": {
      "text/html": [
       "<div>\n",
       "<style scoped>\n",
       "    .dataframe tbody tr th:only-of-type {\n",
       "        vertical-align: middle;\n",
       "    }\n",
       "\n",
       "    .dataframe tbody tr th {\n",
       "        vertical-align: top;\n",
       "    }\n",
       "\n",
       "    .dataframe thead th {\n",
       "        text-align: right;\n",
       "    }\n",
       "</style>\n",
       "<table border=\"1\" class=\"dataframe\">\n",
       "  <thead>\n",
       "    <tr style=\"text-align: right;\">\n",
       "      <th></th>\n",
       "      <th>word</th>\n",
       "      <th>count</th>\n",
       "    </tr>\n",
       "  </thead>\n",
       "  <tbody>\n",
       "    <tr>\n",
       "      <th>485</th>\n",
       "      <td>in</td>\n",
       "      <td>57</td>\n",
       "    </tr>\n",
       "    <tr>\n",
       "      <th>365</th>\n",
       "      <td>for</td>\n",
       "      <td>53</td>\n",
       "    </tr>\n",
       "    <tr>\n",
       "      <th>1105</th>\n",
       "      <td>will</td>\n",
       "      <td>50</td>\n",
       "    </tr>\n",
       "    <tr>\n",
       "      <th>93</th>\n",
       "      <td>be</td>\n",
       "      <td>42</td>\n",
       "    </tr>\n",
       "    <tr>\n",
       "      <th>58</th>\n",
       "      <td>amp</td>\n",
       "      <td>39</td>\n",
       "    </tr>\n",
       "    <tr>\n",
       "      <th>409</th>\n",
       "      <td>great</td>\n",
       "      <td>38</td>\n",
       "    </tr>\n",
       "    <tr>\n",
       "      <th>71</th>\n",
       "      <td>are</td>\n",
       "      <td>35</td>\n",
       "    </tr>\n",
       "    <tr>\n",
       "      <th>1111</th>\n",
       "      <td>with</td>\n",
       "      <td>30</td>\n",
       "    </tr>\n",
       "    <tr>\n",
       "      <th>986</th>\n",
       "      <td>that</td>\n",
       "      <td>28</td>\n",
       "    </tr>\n",
       "    <tr>\n",
       "      <th>975</th>\n",
       "      <td>tax</td>\n",
       "      <td>27</td>\n",
       "    </tr>\n",
       "  </tbody>\n",
       "</table>\n",
       "</div>"
      ],
      "text/plain": [
       "       word  count\n",
       "485      in     57\n",
       "365     for     53\n",
       "1105   will     50\n",
       "93       be     42\n",
       "58      amp     39\n",
       "409   great     38\n",
       "71      are     35\n",
       "1111   with     30\n",
       "986    that     28\n",
       "975     tax     27"
      ]
     },
     "execution_count": 36,
     "metadata": {},
     "output_type": "execute_result"
    }
   ],
   "source": [
    "MLPtrue_predictions = pandas.DataFrame(data={\"true\": yr_test, \"pred\": MLPpredictions})\n",
    "MLPtp_2017 = MLPtrue_predictions[MLPtrue_predictions['true'] == 2017]\n",
    "print(MLPtp_2017.value_counts())\n",
    "\n",
    "\n",
    "MLPtweets_17corr = tweets[\"text\"].loc[MLPtp_2017[MLPtp_2017[\"pred\"] == 2017].index]\n",
    "\n",
    "MLPvect_17corr = vectorizer.fit_transform(MLPtweets_17corr)\n",
    "MLPword_counts = MLPvect_17corr.sum(axis=0)\n",
    "MLPvocab = vectorizer.get_feature_names_out()\n",
    "MLPword_freq = pandas.DataFrame({\n",
    "    'word': MLPvocab,\n",
    "    'count': MLPword_counts.A1  \n",
    "})\n",
    "# Sort by count in descending order\n",
    "MLPword_freq = MLPword_freq.sort_values(by='count', ascending=False)\n",
    "# ignore the basic common words at the top (e.g. the, and, etc)\n",
    "MLPword_freq[5:15]\n",
    "#nothing really special in the results"
   ]
  },
  {
   "cell_type": "markdown",
   "id": "319a86f3-0815-42e6-bfad-6ab911cd4238",
   "metadata": {},
   "source": [
    "2017 Value Counts"
   ]
  },
  {
   "cell_type": "code",
   "execution_count": 92,
   "id": "19145b9e-a693-4629-93fd-c5f0a60ac655",
   "metadata": {},
   "outputs": [
    {
     "name": "stdout",
     "output_type": "stream",
     "text": [
      "pred\n",
      "2019    782\n",
      "2018    316\n",
      "2020    238\n",
      "2015     96\n",
      "2013     71\n",
      "2017     37\n",
      "2016     26\n",
      "2014     17\n",
      "2012      2\n",
      "Name: count, dtype: int64\n",
      "true  pred\n",
      "2017  2013    644\n",
      "      2019    228\n",
      "      2017    162\n",
      "      2020    157\n",
      "      2015    155\n",
      "      2016     82\n",
      "      2018     80\n",
      "      2014     45\n",
      "      2012     32\n",
      "Name: count, dtype: int64\n",
      "true  pred\n",
      "2017  2017    152\n",
      "      2018     68\n",
      "      2019     59\n",
      "      2020     46\n",
      "      2016     30\n",
      "      2013     27\n",
      "      2015     18\n",
      "      2014     12\n",
      "      2012      7\n",
      "Name: count, dtype: int64\n",
      "       NB   RF  MLP\n",
      "pred               \n",
      "2012    2   32    7\n",
      "2013   71  644   27\n",
      "2014   17   45   12\n",
      "2015   96  155   18\n",
      "2016   26   82   30\n",
      "2017   37  162  152\n",
      "2018  316   80   68\n",
      "2019  782  228   59\n",
      "2020  238  157   46\n"
     ]
    }
   ],
   "source": [
    "df_2017 = pandas.DataFrame({\"NB\": tp_2017.value_counts().reset_index(0, drop=True), \"RF\": RFtp_2017.value_counts().reset_index(0, drop=True), \"MLP\": MLPtp_2017.value_counts().reset_index(0, drop=True)})\n",
    "print(df_2017)"
   ]
  },
  {
   "cell_type": "code",
   "execution_count": null,
   "id": "726d98d5-797f-4980-8513-863a41494f93",
   "metadata": {},
   "outputs": [],
   "source": []
  }
 ],
 "metadata": {
  "kernelspec": {
   "display_name": "Python 3 (ipykernel)",
   "language": "python",
   "name": "python3"
  },
  "language_info": {
   "codemirror_mode": {
    "name": "ipython",
    "version": 3
   },
   "file_extension": ".py",
   "mimetype": "text/x-python",
   "name": "python",
   "nbconvert_exporter": "python",
   "pygments_lexer": "ipython3",
   "version": "3.12.4"
  }
 },
 "nbformat": 4,
 "nbformat_minor": 5
}
